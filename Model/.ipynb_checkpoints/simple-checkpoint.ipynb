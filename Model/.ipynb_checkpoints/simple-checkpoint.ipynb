{
 "cells": [
  {
   "cell_type": "code",
   "execution_count": 19,
   "metadata": {},
   "outputs": [],
   "source": [
    "import numpy as np\n",
    "import pandas as pd\n",
    "import matplotlib.pyplot as plt\n",
    "import seaborn as sns\n",
    "%matplotlib inline\n",
    "from sklearn import preprocessing\n",
    "from sklearn.linear_model import LogisticRegression\n",
    "from sklearn.ensemble import RandomForestClassifier\n",
    "from sklearn.ensemble import GradientBoostingClassifier\n",
    "import xgboost as xgb\n",
    "from sklearn import model_selection"
   ]
  },
  {
   "cell_type": "code",
   "execution_count": 53,
   "metadata": {},
   "outputs": [],
   "source": [
    "def DataPreprocessing():\n",
    "    # Merge tag to operation and transaction\n",
    "    print(\"Merge tag to operation and transaction ...\")\n",
    "    uid_tag_dict = dict(zip(tag[\"UID\"], tag[\"Tag\"]))\n",
    "    operation_train[\"tag\"] = operation_train[\"UID\"].map(uid_tag_dict)\n",
    "    transaction_train[\"tag\"] = transaction_train[\"UID\"].map(uid_tag_dict)\n",
    "    \n",
    "    # Fillna \n",
    "    print(\"Fillna ...\")\n",
    "    operation_train.fillna(operation_train.mode().iloc[0], inplace=True)\n",
    "    transaction_train.fillna(transaction_train.mode().iloc[0], inplace=True)\n",
    "    operation_test.fillna(operation_test.mode().iloc[0], inplace=True)\n",
    "    transaction_test.fillna(transaction_test.mode().iloc[0], inplace=True)\n",
    "    \n",
    "    # Label encode\n",
    "    print(\"Operation label encode ...\")\n",
    "    operations = [operation_train, operation_test]\n",
    "    for operation in operations:\n",
    "        time = [t.split(\":\") for t in operation[\"time\"]]\n",
    "        operation[\"time\"] = [int(h) * 3600 + int(m) * 60 + int(s) for (h, m, s) in time]\n",
    "        categorical_features = ['mode', 'os', 'version', 'device1', 'device2', 'device_code1', 'device_code2', 'device_code3', \n",
    "                        'mac1', 'mac2', 'ip1', 'ip2', 'wifi', 'geo_code', 'ip1_sub', 'ip2_sub']\n",
    "        le = preprocessing.LabelEncoder()\n",
    "        for feature in categorical_features:\n",
    "            operation.loc[:, feature] = le.fit_transform(operation.loc[:, feature])\n",
    "     \n",
    "    print(\"Transaction label encode ...\")\n",
    "    transactions = [transaction_train, transaction_test]\n",
    "    for transaction in transactions:\n",
    "        time = [t.split(\":\") for t in transaction[\"time\"]]\n",
    "        transaction[\"time\"] = [int(h) * 3600 + int(m) * 60 + int(s) for (h, m, s) in time]\n",
    "        categorical_features = ['channel', 'amt_src1', 'merchant', 'code1', 'code2', 'trans_type1', 'acc_id1', 'device_code1',\n",
    "                                'device_code2', 'device_code3', 'device1', 'device2', 'mac1', 'ip1', 'amt_src2', 'acc_id2', \n",
    "                                'acc_id3', 'geo_code', 'trans_type2', 'market_code', 'market_type', 'ip1_sub']\n",
    "        le = preprocessing.LabelEncoder()\n",
    "        for feature in categorical_features:\n",
    "            transaction.loc[:, feature] = le.fit_transform(transaction.loc[:, feature])\n",
    "            \n",
    "    operation_x_train, operation_y_train = operations[0].iloc[:, :-1].values, operations[0].iloc[:, -1].values\n",
    "    operation_x_test = operations[1].values\n",
    "    \n",
    "    transaction_x_train, transaction_y_train = transactions[0].iloc[:, :-1].values, transactions[0].iloc[:, -1].values\n",
    "    transaction_x_test = transactions[1].values\n",
    "    \n",
    "    return operation_x_train, operation_y_train, operation_x_test, transaction_x_train, transaction_y_train, transaction_x_test"
   ]
  },
  {
   "cell_type": "code",
   "execution_count": 54,
   "metadata": {},
   "outputs": [],
   "source": [
    "def tpr_weight_function(y_true,y_predict):\n",
    "    d = pd.DataFrame()\n",
    "    d['prob'] = list(y_predict)\n",
    "    d['y'] = list(y_true)\n",
    "    d = d.sort_values(['prob'], ascending=[0])\n",
    "    y = d.y\n",
    "    PosAll = pd.Series(y).value_counts()[1]\n",
    "    NegAll = pd.Series(y).value_counts()[0]\n",
    "    pCumsum = d['y'].cumsum()\n",
    "    nCumsum = np.arange(len(y)) - pCumsum + 1\n",
    "    pCumsumPer = pCumsum / PosAll\n",
    "    nCumsumPer = nCumsum / NegAll\n",
    "    TR1 = pCumsumPer[abs(nCumsumPer-0.001).idxmin()]\n",
    "    TR2 = pCumsumPer[abs(nCumsumPer-0.005).idxmin()]\n",
    "    TR3 = pCumsumPer[abs(nCumsumPer-0.01).idxmin()]\n",
    "    return 0.4 * TR1 + 0.3 * TR2 + 0.3 * TR3"
   ]
  },
  {
   "cell_type": "code",
   "execution_count": 55,
   "metadata": {},
   "outputs": [],
   "source": [
    "def ModelEvaluation(model, x, y):\n",
    "    kf = model_selection.KFold(n_splits = 3, random_state = 2018)\n",
    "    scores = []\n",
    "    for train_index, test_index in kf.split(x):\n",
    "        x_train, x_test = x[train_index], x[test_index]\n",
    "        y_train, y_test = y[train_index], y[test_index]\n",
    "        model.fit(x_train, y_train)\n",
    "        y_pred = model.predict(x_test)\n",
    "        score = tpr_weight_function(y_test, y_pred)\n",
    "        scores.append(score)\n",
    "    \n",
    "    return np.mean(scores)"
   ]
  },
  {
   "cell_type": "code",
   "execution_count": 64,
   "metadata": {},
   "outputs": [],
   "source": [
    "def Fit(model, x_train, y_train):\n",
    "    model.fit(x_train, y_train)\n",
    "    return model"
   ]
  },
  {
   "cell_type": "code",
   "execution_count": 63,
   "metadata": {},
   "outputs": [],
   "source": [
    "def Predict(model, x_test):\n",
    "    y_pred = model.predict_proba(x_test)[:, 1]\n",
    "    return y_pred"
   ]
  },
  {
   "cell_type": "code",
   "execution_count": 68,
   "metadata": {},
   "outputs": [],
   "source": [
    "def GetResult(x_test, y_pred):\n",
    "    result = pd.DataFrame()\n",
    "    result[\"UID\"] = x_test[\"UID\"]\n",
    "    result[\"Tag\"] = y_pred\n",
    "    return result"
   ]
  },
  {
   "cell_type": "code",
   "execution_count": 115,
   "metadata": {},
   "outputs": [],
   "source": [
    "def GetSubmission(operation_result, transaction_result):\n",
    "    result = pd.concat([operation_result, transaction_result], axis = 0)\n",
    "    result = result.groupby(\"UID\").mean()\n",
    "    submission = pd.DataFrame()\n",
    "    submission[\"UID\"] = result.index\n",
    "    submission[\"Tag\"] = result[\"Tag\"].values\n",
    "    submission.to_csv(\"../Submission/submission.csv\", index=False)"
   ]
  },
  {
   "cell_type": "code",
   "execution_count": 52,
   "metadata": {
    "scrolled": true
   },
   "outputs": [
    {
     "name": "stderr",
     "output_type": "stream",
     "text": [
      "g:\\python\\lib\\site-packages\\IPython\\core\\interactiveshell.py:3020: DtypeWarning: Columns (8) have mixed types. Specify dtype option on import or set low_memory=False.\n",
      "  interactivity=interactivity, compiler=compiler, result=result)\n"
     ]
    }
   ],
   "source": [
    "operation_train = pd.read_csv(\"../Data/operation_train_new.csv\")\n",
    "transaction_train = pd.read_csv(\"../Data/transaction_train_new.csv\")\n",
    "tag = pd.read_csv(\"../Data/tag_train_new.csv\")\n",
    "operation_test = pd.read_csv(\"../Data/operation_round1_new.csv\")\n",
    "transaction_test = pd.read_csv(\"../Data/transaction_round1_new.csv\")"
   ]
  },
  {
   "cell_type": "code",
   "execution_count": 56,
   "metadata": {},
   "outputs": [
    {
     "name": "stdout",
     "output_type": "stream",
     "text": [
      "Merge tag to operation and transaction ...\n",
      "Fillna ...\n",
      "Operation label encode ...\n",
      "Transaction label encode ...\n"
     ]
    }
   ],
   "source": [
    "operation_x_train, operation_y_train, operation_x_test, transaction_x_train, transaction_y_train, transaction_x_test = DataPreprocessing()"
   ]
  },
  {
   "cell_type": "code",
   "execution_count": 61,
   "metadata": {
    "collapsed": true
   },
   "outputs": [
    {
     "name": "stderr",
     "output_type": "stream",
     "text": [
      "g:\\python\\lib\\site-packages\\sklearn\\ensemble\\forest.py:246: FutureWarning: The default value of n_estimators will change from 10 in version 0.20 to 100 in 0.22.\n",
      "  \"10 in version 0.20 to 100 in 0.22.\", FutureWarning)\n"
     ]
    },
    {
     "name": "stdout",
     "output_type": "stream",
     "text": [
      "operation_rf_score:  0.4879438472280517\n"
     ]
    }
   ],
   "source": [
    "operation_rf_score = ModelEvaluation(RandomForestClassifier(), operation_x_train, operation_y_train)\n",
    "print(\"operation_rf_score: \", operation_rf_score)\n",
    "transaction_rf_score = ModelEvaluation(RandomForestClassifier(), transaction_x_train, transaction_y_train)\n",
    "print(\"transaction_rf_score: \", transaction_rf_score)"
   ]
  },
  {
   "cell_type": "code",
   "execution_count": 65,
   "metadata": {
    "collapsed": true
   },
   "outputs": [
    {
     "name": "stderr",
     "output_type": "stream",
     "text": [
      "g:\\python\\lib\\site-packages\\sklearn\\ensemble\\forest.py:246: FutureWarning: The default value of n_estimators will change from 10 in version 0.20 to 100 in 0.22.\n",
      "  \"10 in version 0.20 to 100 in 0.22.\", FutureWarning)\n",
      "g:\\python\\lib\\site-packages\\sklearn\\ensemble\\forest.py:246: FutureWarning: The default value of n_estimators will change from 10 in version 0.20 to 100 in 0.22.\n",
      "  \"10 in version 0.20 to 100 in 0.22.\", FutureWarning)\n"
     ]
    }
   ],
   "source": [
    "operation_rf = Fit(RandomForestClassifier(), operation_x_train, operation_y_train)\n",
    "transaction_rf = Fit(RandomForestClassifier(), transaction_x_train, transaction_y_train)\n",
    "\n",
    "operation_y_pred = Predict(operation_rf, operation_x_test)\n",
    "transaction_y_pred = Predict(transaction_rf, transaction_x_test)"
   ]
  },
  {
   "cell_type": "code",
   "execution_count": 117,
   "metadata": {},
   "outputs": [],
   "source": [
    "operation_xgb = Fit(xgb.XGBClassifier(), operation_x_train, operation_y_train)\n",
    "transaction_xgb = Fit(xgb.XGBClassifier(), transaction_x_train, transaction_y_train)\n",
    "\n",
    "operation_y_pred = Predict(operation_xgb, operation_x_test)\n",
    "transaction_y_pred = Predict(transaction_xgb, transaction_x_test)"
   ]
  },
  {
   "cell_type": "code",
   "execution_count": 118,
   "metadata": {},
   "outputs": [],
   "source": [
    "operation_result = GetResult(operation_test, operation_y_pred)\n",
    "transaction_result = GetResult(transaction_test, transaction_y_pred)"
   ]
  },
  {
   "cell_type": "code",
   "execution_count": 119,
   "metadata": {},
   "outputs": [],
   "source": [
    "GetSubmission(operation_result, transaction_result)"
   ]
  },
  {
   "cell_type": "code",
   "execution_count": null,
   "metadata": {},
   "outputs": [],
   "source": []
  }
 ],
 "metadata": {
  "kernelspec": {
   "display_name": "Python 3",
   "language": "python",
   "name": "python3"
  },
  "language_info": {
   "codemirror_mode": {
    "name": "ipython",
    "version": 3
   },
   "file_extension": ".py",
   "mimetype": "text/x-python",
   "name": "python",
   "nbconvert_exporter": "python",
   "pygments_lexer": "ipython3",
   "version": "3.7.1"
  }
 },
 "nbformat": 4,
 "nbformat_minor": 2
}
