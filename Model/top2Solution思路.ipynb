{
 "cells": [
  {
   "cell_type": "code",
   "execution_count": 9,
   "metadata": {},
   "outputs": [],
   "source": [
    "import pandas as pd"
   ]
  },
  {
   "cell_type": "code",
   "execution_count": null,
   "metadata": {},
   "outputs": [],
   "source": [
    "''' Step 1 : Data Preprocessing '''\n",
    "\n",
    "# Drop Duplicates\n",
    "# data.drop_duplicates()\n",
    "\n",
    "# Fill Na\n",
    "# data.fillna(-1)\n",
    "\n",
    "# Drop Outliers\n",
    "# 删除UID为17520的异常数据\n",
    "\n",
    "# Label Encoding\n",
    "# operation[\"mode\"]\n",
    "# transaction[\"amt_src1\"]"
   ]
  },
  {
   "cell_type": "code",
   "execution_count": null,
   "metadata": {},
   "outputs": [],
   "source": [
    "''' Step 2 : Feature Engineering'''\n",
    "\n",
    "# Feature Creation\n",
    "def get_feature(op,trans, label,num):\n",
    "    \n",
    "    # 去除训练集中特征取值不在测试集中的样本\n",
    "    operation[\"mode\"]\n",
    "    operation[\"os\"]\n",
    "    operation[\"version\"]\n",
    "    transaction[\"channel\"]\n",
    "    transaction[\"amt_src1\"]\n",
    "    transaction[\"amt_src2\"]\n",
    "    transaction[\"trans_type1\"]\n",
    "    transaction[\"trans_type2\"]\n",
    "    \n",
    "    \"\"\" Operation \"\"\"\n",
    "    \n",
    "    # 特征1： 每个用户的操作记录数\n",
    "    \n",
    "    # 特征2： 每个用户的操作记录缺失特征数的中位数\n",
    "    \n",
    "    # 特征3： 每个用户每个特征取不同值的数目\n",
    "    \n",
    "    # 特征4： 每个用户同一天、同一分钟每个特征值取不同值的数目的最大值\n",
    "    \n",
    "    # 特征5： 每个用户同一天、同一秒钟每个特征值取不同值的数目的最大值\n",
    "    \n",
    "    # 特征6： 每个用户使用不同设备、wifi、ip等特征的数目的最大值、平均值\n",
    "    \n",
    "    # 特征7： 每个用户日期特征（day） 的方差\n",
    "    \n",
    "    # 特征8： 两个特征的比值\n",
    "    \n",
    "    \"\"\" Transaction \"\"\"\n",
    "    \n",
    "    # 操作与上述过程类似\n",
    "    \n",
    "    # 合并两表得到的特征\n",
    "    \n",
    "    pass\n",
    "\n",
    "# Feature Selection\n",
    "\n",
    "# 计算特征IV值\n",
    "def calc_iv(df, feature, pos_num=4285, neg_num=26894, cut_num = 5):\n",
    "    pass\n",
    "\n",
    "# 剔除相关性强而IV值较低的特征"
   ]
  },
  {
   "cell_type": "code",
   "execution_count": null,
   "metadata": {},
   "outputs": [],
   "source": [
    "Feature Engineering\n",
    "\n",
    "label: \n",
    "    UID, Tag, \n",
    "    OP_COUNT, OP_n_null_median, \n",
    "    \n",
    "temp_op: \n",
    "    UID, COUNT,     \n",
    "    uinque_nan_feature, unique_feature, feature = [columns[2:]]\n",
    "    UID_day_minute_feature_maxnums, UID_day_second_feature_maxnums, feature = ['device1','device2','mac1','ip1','ip2','device_code3','mac2','wifi','ip1_sub','ip2_sub','device_code1','device_code2']\n",
    "    UID_used_by_mean_feature, UID_used_by_max_feature, UID_used_by_ones_ratio_feature, feature = ['device1','device2','mac1','ip1','ip2','device_code3','mac2','wifi','ip1_sub','ip2_sub','device_code1','device_code2']\n",
    "op: \n",
    "    raw_features, \n",
    "    hour, minute, \n",
    "    UID_day_minute_feature_nums, UID_day_second_feature_nums, feature = ['device1','device2','mac1','ip1','ip2','device_code3','mac2','wifi','ip1_sub','ip2_sub','device_code1','device_code2']\n",
    "    UIDnum_per_feature, feature = ['device1','device2','mac1','ip1','ip2','device_code3','mac2','wifi','ip1_sub','ip2_sub','device_code1','device_code2']\n",
    "交叉特征\n",
    "合并特征： label.merge(temp_op)"
   ]
  },
  {
   "cell_type": "code",
   "execution_count": 16,
   "metadata": {},
   "outputs": [],
   "source": [
    "\"\"\" Step 3 : Model Creation, Model Evaluation, Model Optimization \"\"\""
   ]
  },
  {
   "cell_type": "code",
   "execution_count": 17,
   "metadata": {},
   "outputs": [],
   "source": [
    "\"\"\" Step 4 : Model Ensembling \"\"\""
   ]
  },
  {
   "cell_type": "code",
   "execution_count": null,
   "metadata": {},
   "outputs": [],
   "source": [
    "\"\"\" Little Trick \"\"\"\n",
    "data.groupby().nunique()\n",
    "data.groupby().transform(\"nuique\")\n",
    "data[\"time\"].apply(lambda x : int (x[:2]))"
   ]
  }
 ],
 "metadata": {
  "kernelspec": {
   "display_name": "Python 3",
   "language": "python",
   "name": "python3"
  },
  "language_info": {
   "codemirror_mode": {
    "name": "ipython",
    "version": 3
   },
   "file_extension": ".py",
   "mimetype": "text/x-python",
   "name": "python",
   "nbconvert_exporter": "python",
   "pygments_lexer": "ipython3",
   "version": "3.7.1"
  }
 },
 "nbformat": 4,
 "nbformat_minor": 2
}
